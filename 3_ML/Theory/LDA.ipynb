{
 "cells": [
  {
   "cell_type": "markdown",
   "metadata": {},
   "source": [
    "# Linear Discriminant Analysis"
   ]
  },
  {
   "cell_type": "markdown",
   "metadata": {},
   "source": [
    "- 종속변수가 그룹변수(카테코리)\n",
    "- 중심점에서 멀어질 수록 섬기게 분포 (정규분포 형태의 확률분포)\n",
    "- 각 숫자 집단은 비슷한 형태의 공분산 구조를 가진다.(기울어진 정도, 퍼진 정도)\n",
    "- LDA결과 얻게 되는 Decision boundary의 특징\n",
    "    - 축이 바뀌면 Boundary가 바뀐다 ->  어떤 축을 선택?\n",
    "    - Boundary에 직교하는 축 (자료들을 이 축에 정사영 시킨 분포의 형태를 고려)\n",
    "    - 분산 대비 평균의 차이를 극대화 하는 것이 좋다\n",
    "        - 두 평균 벡터의 차이 벡터를 이용\n",
    "    "
   ]
  },
  {
   "cell_type": "markdown",
   "metadata": {},
   "source": [
    "https://www.geogebra.org/3d \n",
    "    3차원 그래프\n",
    "   "
   ]
  },
  {
   "cell_type": "markdown",
   "metadata": {},
   "source": [
    "###### 가정\n",
    "- 각 숫자 집단은 정규분포 형태의 확률분포를 가진다.\n",
    "- 각 숫자 집단은 비슷한 형태의 공분산 구조를 가진다.\n",
    "\n",
    "###### 장단점\n",
    "- 장점 \n",
    "    - 설명변수간의 공분산 구조를 반영\n",
    "    - 가정이 위반되더라도 비교적 Robust(둔감)\n",
    "- 단점 \n",
    "    - 가장 작은 그룹의 샘풀 수가 설명변수의 개수보다 많아야 함\n",
    "    - 정규분포 가정에 크게 벗어나는 경우 잘 설명하지 못함.\n",
    "    - Y 범주 사이에 공분산 구조가 많이 다른 경우를 반영하지 못함 -> QDA 이용"
   ]
  },
  {
   "cell_type": "code",
   "execution_count": null,
   "metadata": {},
   "outputs": [],
   "source": []
  }
 ],
 "metadata": {
  "kernelspec": {
   "display_name": "Python 3",
   "language": "python",
   "name": "python3"
  },
  "language_info": {
   "codemirror_mode": {
    "name": "ipython",
    "version": 3
   },
   "file_extension": ".py",
   "mimetype": "text/x-python",
   "name": "python",
   "nbconvert_exporter": "python",
   "pygments_lexer": "ipython3",
   "version": "3.7.4"
  }
 },
 "nbformat": 4,
 "nbformat_minor": 2
}
