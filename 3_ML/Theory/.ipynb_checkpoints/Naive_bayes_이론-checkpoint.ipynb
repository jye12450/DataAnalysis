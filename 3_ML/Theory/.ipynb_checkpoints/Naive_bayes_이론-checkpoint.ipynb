{
 "cells": [
  {
   "cell_type": "markdown",
   "metadata": {},
   "source": [
    "# Naive bayes classifer"
   ]
  },
  {
   "cell_type": "markdown",
   "metadata": {},
   "source": [
    "### - Naive bayes classifier 배경"
   ]
  },
  {
   "cell_type": "markdown",
   "metadata": {},
   "source": [
    "##### 입력변수 : 겉보기 날씨와 습도\n",
    "##### 출력변수 : 플레이 테니스 "
   ]
  },
  {
   "cell_type": "markdown",
   "metadata": {},
   "source": [
    " ex.) 겉보기 날씨와 습도가 고정되어 있다고 할 떄, 가질 수 있는 패턴은 두 가지\n",
    "\n",
    "    -> 테니스를 친다., 테니스를 치지 않는다.\n",
    "\n",
    "\n",
    "- 설명변수와 종속변수는 분리해서 생각.\n",
    "- 설명변수는 서로 상관관계가 없음을 가정."
   ]
  },
  {
   "cell_type": "markdown",
   "metadata": {},
   "source": [
    "### - 수학적 개념이해 - 조건부확률과 베이즈 정리"
   ]
  },
  {
   "cell_type": "markdown",
   "metadata": {},
   "source": [
    "###### 조건부 확률\n",
    "- B가 주어졌을 때 사건 A의 조건부 확률 : P(A|B)\n",
    "- 적용 방법 : 설명변수가 주어졌을 때 종속변수"
   ]
  },
  {
   "cell_type": "markdown",
   "metadata": {},
   "source": [
    "![png](table.png)\n"
   ]
  },
  {
   "cell_type": "markdown",
   "metadata": {},
   "source": [
    "- P(Yes|Sunny, Normal) = 2/2 = P(Yes,Sunny,normal)/P(Sunny,Normal) = 2/14 / 2/14"
   ]
  },
  {
   "cell_type": "markdown",
   "metadata": {},
   "source": [
    "###### 베이즈 정리\n",
    "![png](bayes.png)"
   ]
  },
  {
   "cell_type": "markdown",
   "metadata": {},
   "source": [
    "- 아래와 같은 상황일 때, 해당 패턴이 자주 나타난다.\n",
    "        - 테니스 자체를 많이 치는 경우\n",
    "        - 테니스르 쳤을 때, 해당 날씨와 습도가 자주 출현한 경우"
   ]
  },
  {
   "cell_type": "markdown",
   "metadata": {},
   "source": [
    "### - Naive bayes classifier\n",
    "![png](naive_bayes.png)\n",
    "계산을 하는 부분에서는 분모 부분을 활용하지 않기 때문에 분자에 집중한다. "
   ]
  },
  {
   "cell_type": "markdown",
   "metadata": {},
   "source": [
    "![png](naive_bayes2.png)"
   ]
  },
  {
   "cell_type": "code",
   "execution_count": null,
   "metadata": {},
   "outputs": [],
   "source": []
  }
 ],
 "metadata": {
  "kernelspec": {
   "display_name": "Python 3",
   "language": "python",
   "name": "python3"
  },
  "language_info": {
   "codemirror_mode": {
    "name": "ipython",
    "version": 3
   },
   "file_extension": ".py",
   "mimetype": "text/x-python",
   "name": "python",
   "nbconvert_exporter": "python",
   "pygments_lexer": "ipython3",
   "version": "3.7.4"
  }
 },
 "nbformat": 4,
 "nbformat_minor": 2
}
