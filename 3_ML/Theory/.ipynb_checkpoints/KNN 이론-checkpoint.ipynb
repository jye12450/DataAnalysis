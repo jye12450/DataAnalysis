{
 "cells": [
  {
   "cell_type": "markdown",
   "metadata": {},
   "source": [
    "# k-Nearest neighborhood"
   ]
  },
  {
   "cell_type": "markdown",
   "metadata": {},
   "source": [
    "- 근처 k개의 변수들로 인해 종속변수를 결정하는 모델"
   ]
  },
  {
   "cell_type": "markdown",
   "metadata": {},
   "source": [
    "1. 종속변수가\n",
    "    - 범주형 변수 : k-nearest neighborhood 중 가장 많이 나타나는 범주로 y를 추정\n",
    "        -  동률 문제를 막기위해 k는 홀수로 지정\n",
    "    - 연속형 변수 : k-nearest neighborhood의 대표값(평균)으로 y를 추정\n",
    "        - weight 고려 가능\n",
    "\n",
    "\n",
    "2. (거리 구하는 방법) 설명변수가\n",
    "    - 범주형 변수 :  Hamming distance \n",
    "        - ex) 101100 과 100110 사이의 해밍 거리는 2\n",
    "    - 연속형 변수 : Euclidian distance / Manhattan distance\n",
    "\n",
    "\n",
    "3. 개수 k 의 결정\n",
    "    - 너무 큰 k 는 미세한 경계부분 분류가 아쉬울 것\n",
    "    - 너무 작은 k는 과적합 우려, 이상치의 영향의 증가, 패턴이 직관적이지 않을 것\n",
    "    \n",
    "    --> Test error 가 줄어드는 구간이 최적의 k\n",
    "\n",
    "\n",
    "4. Cross-Validation\n",
    "    - 과적합과 샘플로스의 트레이드 오프관계를 완화 \n",
    "   \n",
    "   \n",
    "5. 종속변수와 설명변수가 상관 없을 때 모델의 비효율성을 초래"
   ]
  },
  {
   "cell_type": "code",
   "execution_count": null,
   "metadata": {},
   "outputs": [],
   "source": []
  }
 ],
 "metadata": {
  "kernelspec": {
   "display_name": "Python 3",
   "language": "python",
   "name": "python3"
  },
  "language_info": {
   "codemirror_mode": {
    "name": "ipython",
    "version": 3
   },
   "file_extension": ".py",
   "mimetype": "text/x-python",
   "name": "python",
   "nbconvert_exporter": "python",
   "pygments_lexer": "ipython3",
   "version": "3.7.4"
  }
 },
 "nbformat": 4,
 "nbformat_minor": 2
}
