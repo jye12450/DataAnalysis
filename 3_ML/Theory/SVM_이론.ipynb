{
 "cells": [
  {
   "cell_type": "markdown",
   "metadata": {},
   "source": [
    "# Support vector Marchine "
   ]
  },
  {
   "attachments": {},
   "cell_type": "markdown",
   "metadata": {},
   "source": [
    "1. 배경\n",
    "    - 경계선에 집중 \n",
    "    - Margin을 최대화 하는 경계선을 찾는 것\n",
    "\n",
    "\n",
    "2. 문제점 \n",
    "    - 정확히 구분되지 않는 경우가 존재\n",
    "        - 적당한 이상치(Error)를 허용하고, 이를 최소화하도록 경계선을 결정.\n",
    "\n",
    "\n",
    "3. 종류\n",
    "    -범주형 변수 : Support vector classfier\n",
    "        - 핵심 : Margin 안에 포함되거나, 반대방향으로 분류된 점들\n",
    "    -연속형 변수 : Support vector regression(SVR)\n",
    "        - 핵심 : Margin 바깥에 위치한 점들.\n",
    "         \n",
    "         \n",
    "4. SVM의 정의\n",
    "\\begin{align}\n",
    "F(x) & = x^T\\beta \\cdot \\beta_0 = 0 \\\\\n",
    "\\end{align}\n",
    "\\begin{align}\n",
    "\\beta 와 \\beta_0을 유일하게 만들기 위해서, ||\\beta|| =1 조건이 필요. \n",
    "\\end{align}\n",
    "    - 아래와 같이 margin을 최대로 만드는 계숫갑을 구하는 문제\n",
    "\\begin{align}\n",
    "M \\leq where y_i(x_i^T\\beta + \\beta_0) \n",
    "\\end{align}\n",
    "    - Error를 허용하면,\n",
    "\\begin{align}\n",
    "M(1- E_i) \\leq \\ where y_i(x_i^T\\beta + \\beta_0)\n",
    "\\end{align}\n"
   ]
  }
 ],
 "metadata": {
  "kernelspec": {
   "display_name": "Python 3",
   "language": "python",
   "name": "python3"
  },
  "language_info": {
   "codemirror_mode": {
    "name": "ipython",
    "version": 3
   },
   "file_extension": ".py",
   "mimetype": "text/x-python",
   "name": "python",
   "nbconvert_exporter": "python",
   "pygments_lexer": "ipython3",
   "version": "3.7.4"
  }
 },
 "nbformat": 4,
 "nbformat_minor": 4
}
