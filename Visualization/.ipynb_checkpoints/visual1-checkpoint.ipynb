{
 "cells": [
  {
   "cell_type": "markdown",
   "metadata": {},
   "source": [
    "# 전국 신규 민간 아파트 분양가격 동향\n",
    "* 2015년 10월부터 2018년 7월까지\n",
    "* 주택분양보증을 받아 분양한 전체 민간 신규아파트 분양가격 동향\n",
    "* https://www.data.go.kr/dataset/3035522/fileData.do\n",
    "* 이 튜토리얼은 아파트 분양가에 대한 분석보다 파이썬 데이터 분석 방법을 배우는데 목적을 두고 있습니다.\n",
    "* 이 튜토리얼에서는 파이썬 데이터분석 도구인 Pandas를 활용합니다. Pandas에 대한 간략한 소개는 다음의 판다스 10분 완성 문서를 참고해 주시면 좋습니다. \n",
    "    * https://dataitgirls2.github.io/10minutes2pandas/\n",
    "* 또 시각화 도구로는 grammer of graphics 문법을 활용할 수 있는 plotnine을 사용합니다.\n",
    "* 이 튜토리얼은 데잇걸즈 2기와 파이콘 한국 2018에서 진행되기도 했습니다.\n",
    "* 다음의 경로에서 온라인 분석도구인 Colaboratory의 사본을 생성해서 직접 실행하는 실습을 진행해 보실 수도 있습니다.\n",
    "    * https://goo.gl/jSr7WU\n",
    "* 데이터 다운로드 : https://goo.gl/oJydAv "
   ]
  },
  {
   "cell_type": "markdown",
   "metadata": {},
   "source": [
    "## !중요\n",
    "### 버전과 한글폰트\n",
    "* 한글폰트 사용하기 : http://corazzon.github.io/matplotlib_font_setting"
   ]
  },
  {
   "cell_type": "code",
   "execution_count": 1,
   "metadata": {},
   "outputs": [],
   "source": [
    "# 아래의 버전에 의존성이 있습니다. \n",
    "# 다음의 버전으로 설치해 주세요.\n",
    "# !pip install plotnine==0.5.0\n",
    "# !pip install pandas\n",
    "# !pip install folium==0.5.0\n",
    "# !pip install statsmodels -U\n",
    "# 시각화 도구 설치\n",
    "#!conda install -c conda-forge plotnine \n",
    "#!conda install -c conda-forge missingno"
   ]
  },
  {
   "cell_type": "markdown",
   "metadata": {},
   "source": [
    "# 아나콘다 사용시 \n",
    "* Plotnine 설치 : https://anaconda.org/conda-forge/plotnine\n",
    "* missingno 설치 : https://anaconda.org/conda-forge/missingno"
   ]
  },
  {
   "cell_type": "code",
   "execution_count": 2,
   "metadata": {},
   "outputs": [],
   "source": [
    "import warnings\n",
    "warnings.filterwarnings('ignore')"
   ]
  },
  {
   "cell_type": "code",
   "execution_count": 3,
   "metadata": {},
   "outputs": [],
   "source": [
    "import pandas as pd\n",
    "import numpy as np\n",
    "import re"
   ]
  },
  {
   "cell_type": "code",
   "execution_count": 4,
   "metadata": {},
   "outputs": [],
   "source": [
    "# plotnine 이 import 되지 않는다면 아래 코드의 주석을 풀고 설치해 주세요.\n",
    "# !pip install statsmodels -U"
   ]
  },
  {
   "cell_type": "code",
   "execution_count": 5,
   "metadata": {},
   "outputs": [],
   "source": [
    "from plotnine import *"
   ]
  },
  {
   "cell_type": "markdown",
   "metadata": {},
   "source": [
    "%을 사용하면 터미널에서 사용할 수 있는 유닉스 명령어를 사용하실 수 있습니다.\n",
    "경로를 불러오는 문제가 있을 때 이 방법을 사용하면 좋습니다."
   ]
  },
  {
   "cell_type": "code",
   "execution_count": 6,
   "metadata": {},
   "outputs": [
    {
     "data": {
      "text/plain": [
       "'C:\\\\Users\\\\com11\\\\ML\\\\PA\\\\Visualization'"
      ]
     },
     "execution_count": 6,
     "metadata": {},
     "output_type": "execute_result"
    }
   ],
   "source": [
    "# 현재 위치정보를 봅니다.\n",
    "%pwd"
   ]
  },
  {
   "cell_type": "code",
   "execution_count": 7,
   "metadata": {},
   "outputs": [
    {
     "name": "stdout",
     "output_type": "stream",
     "text": [
      " C 드라이브의 볼륨에는 이름이 없습니다.\n",
      " 볼륨 일련 번호: FA01-204A\n",
      "\n",
      " C:\\Users\\com11\\ML\\PA\\Visualization 디렉터리\n",
      "\n",
      "2020-02-27  오후 07:37    <DIR>          .\n",
      "2020-02-27  오후 07:37    <DIR>          ..\n",
      "2020-02-26  오후 09:41    <DIR>          .ipynb_checkpoints\n",
      "2020-02-26  오후 09:36            32,830 1.ipynb.txt\n",
      "2020-02-27  오후 07:39    <DIR>          data\n",
      "2020-02-27  오후 07:37            36,640 visual1.ipynb\n",
      "               2개 파일              69,470 바이트\n",
      "               4개 디렉터리  151,242,985,472 바이트 남음\n"
     ]
    }
   ],
   "source": [
    "# data 폴더 아래에 apt_price 라는 폴더를 만들어 공공데이터 포털에서 다운로드 받은 데이터를 모아 두었습니다. 해당 파일을 확인해 봅니다.\n",
    "%ls "
   ]
  },
  {
   "cell_type": "code",
   "execution_count": 14,
   "metadata": {},
   "outputs": [
    {
     "data": {
      "text/plain": [
       "(2890, 5)"
      ]
     },
     "execution_count": 14,
     "metadata": {},
     "output_type": "execute_result"
    }
   ],
   "source": [
    "pre_sale = pd.read_csv('data/2018_7.csv', encoding='euc-kr')\n",
    "pre_sale.shape"
   ]
  },
  {
   "cell_type": "code",
   "execution_count": 15,
   "metadata": {},
   "outputs": [
    {
     "data": {
      "text/html": [
       "<div>\n",
       "<style scoped>\n",
       "    .dataframe tbody tr th:only-of-type {\n",
       "        vertical-align: middle;\n",
       "    }\n",
       "\n",
       "    .dataframe tbody tr th {\n",
       "        vertical-align: top;\n",
       "    }\n",
       "\n",
       "    .dataframe thead th {\n",
       "        text-align: right;\n",
       "    }\n",
       "</style>\n",
       "<table border=\"1\" class=\"dataframe\">\n",
       "  <thead>\n",
       "    <tr style=\"text-align: right;\">\n",
       "      <th></th>\n",
       "      <th>지역명</th>\n",
       "      <th>규모구분</th>\n",
       "      <th>연도</th>\n",
       "      <th>월</th>\n",
       "      <th>분양가격(㎡)</th>\n",
       "    </tr>\n",
       "  </thead>\n",
       "  <tbody>\n",
       "    <tr>\n",
       "      <td>0</td>\n",
       "      <td>서울</td>\n",
       "      <td>전체</td>\n",
       "      <td>2015</td>\n",
       "      <td>10</td>\n",
       "      <td>5841</td>\n",
       "    </tr>\n",
       "    <tr>\n",
       "      <td>1</td>\n",
       "      <td>서울</td>\n",
       "      <td>전용면적 60㎡이하</td>\n",
       "      <td>2015</td>\n",
       "      <td>10</td>\n",
       "      <td>5652</td>\n",
       "    </tr>\n",
       "    <tr>\n",
       "      <td>2</td>\n",
       "      <td>서울</td>\n",
       "      <td>전용면적 60㎡초과 85㎡이하</td>\n",
       "      <td>2015</td>\n",
       "      <td>10</td>\n",
       "      <td>5882</td>\n",
       "    </tr>\n",
       "    <tr>\n",
       "      <td>3</td>\n",
       "      <td>서울</td>\n",
       "      <td>전용면적 85㎡초과 102㎡이하</td>\n",
       "      <td>2015</td>\n",
       "      <td>10</td>\n",
       "      <td>5721</td>\n",
       "    </tr>\n",
       "    <tr>\n",
       "      <td>4</td>\n",
       "      <td>서울</td>\n",
       "      <td>전용면적 102㎡초과</td>\n",
       "      <td>2015</td>\n",
       "      <td>10</td>\n",
       "      <td>5879</td>\n",
       "    </tr>\n",
       "  </tbody>\n",
       "</table>\n",
       "</div>"
      ],
      "text/plain": [
       "  지역명               규모구분    연도   월 분양가격(㎡)\n",
       "0  서울                 전체  2015  10    5841\n",
       "1  서울         전용면적 60㎡이하  2015  10    5652\n",
       "2  서울   전용면적 60㎡초과 85㎡이하  2015  10    5882\n",
       "3  서울  전용면적 85㎡초과 102㎡이하  2015  10    5721\n",
       "4  서울        전용면적 102㎡초과  2015  10    5879"
      ]
     },
     "execution_count": 15,
     "metadata": {},
     "output_type": "execute_result"
    }
   ],
   "source": [
    "pre_sale.head()"
   ]
  },
  {
   "cell_type": "code",
   "execution_count": 16,
   "metadata": {},
   "outputs": [
    {
     "data": {
      "text/html": [
       "<div>\n",
       "<style scoped>\n",
       "    .dataframe tbody tr th:only-of-type {\n",
       "        vertical-align: middle;\n",
       "    }\n",
       "\n",
       "    .dataframe tbody tr th {\n",
       "        vertical-align: top;\n",
       "    }\n",
       "\n",
       "    .dataframe thead th {\n",
       "        text-align: right;\n",
       "    }\n",
       "</style>\n",
       "<table border=\"1\" class=\"dataframe\">\n",
       "  <thead>\n",
       "    <tr style=\"text-align: right;\">\n",
       "      <th></th>\n",
       "      <th>지역명</th>\n",
       "      <th>규모구분</th>\n",
       "      <th>연도</th>\n",
       "      <th>월</th>\n",
       "      <th>분양가격(㎡)</th>\n",
       "    </tr>\n",
       "  </thead>\n",
       "  <tbody>\n",
       "    <tr>\n",
       "      <td>2885</td>\n",
       "      <td>제주</td>\n",
       "      <td>전체</td>\n",
       "      <td>2018</td>\n",
       "      <td>7</td>\n",
       "      <td>3334</td>\n",
       "    </tr>\n",
       "    <tr>\n",
       "      <td>2886</td>\n",
       "      <td>제주</td>\n",
       "      <td>전용면적 60㎡이하</td>\n",
       "      <td>2018</td>\n",
       "      <td>7</td>\n",
       "      <td>NaN</td>\n",
       "    </tr>\n",
       "    <tr>\n",
       "      <td>2887</td>\n",
       "      <td>제주</td>\n",
       "      <td>전용면적 60㎡초과 85㎡이하</td>\n",
       "      <td>2018</td>\n",
       "      <td>7</td>\n",
       "      <td>3356</td>\n",
       "    </tr>\n",
       "    <tr>\n",
       "      <td>2888</td>\n",
       "      <td>제주</td>\n",
       "      <td>전용면적 85㎡초과 102㎡이하</td>\n",
       "      <td>2018</td>\n",
       "      <td>7</td>\n",
       "      <td>3226</td>\n",
       "    </tr>\n",
       "    <tr>\n",
       "      <td>2889</td>\n",
       "      <td>제주</td>\n",
       "      <td>전용면적 102㎡초과</td>\n",
       "      <td>2018</td>\n",
       "      <td>7</td>\n",
       "      <td>2990</td>\n",
       "    </tr>\n",
       "  </tbody>\n",
       "</table>\n",
       "</div>"
      ],
      "text/plain": [
       "     지역명               규모구분    연도  월 분양가격(㎡)\n",
       "2885  제주                 전체  2018  7    3334\n",
       "2886  제주         전용면적 60㎡이하  2018  7     NaN\n",
       "2887  제주   전용면적 60㎡초과 85㎡이하  2018  7    3356\n",
       "2888  제주  전용면적 85㎡초과 102㎡이하  2018  7    3226\n",
       "2889  제주        전용면적 102㎡초과  2018  7    2990"
      ]
     },
     "execution_count": 16,
     "metadata": {},
     "output_type": "execute_result"
    }
   ],
   "source": [
    "pre_sale.tail()"
   ]
  },
  {
   "cell_type": "code",
   "execution_count": 17,
   "metadata": {},
   "outputs": [
    {
     "name": "stdout",
     "output_type": "stream",
     "text": [
      "<class 'pandas.core.frame.DataFrame'>\n",
      "RangeIndex: 2890 entries, 0 to 2889\n",
      "Data columns (total 5 columns):\n",
      "지역명        2890 non-null object\n",
      "규모구분       2890 non-null object\n",
      "연도         2890 non-null int64\n",
      "월          2890 non-null int64\n",
      "분양가격(㎡)    2750 non-null object\n",
      "dtypes: int64(2), object(3)\n",
      "memory usage: 113.0+ KB\n"
     ]
    }
   ],
   "source": [
    "# 분양가격이 숫자 타입이 아닙니다. 숫자 타입으로 변경해줄 필요가 있겠어요.\n",
    "pre_sale.info()"
   ]
  },
  {
   "cell_type": "code",
   "execution_count": 18,
   "metadata": {},
   "outputs": [
    {
     "data": {
      "text/plain": [
       "지역명        object\n",
       "규모구분       object\n",
       "연도          int64\n",
       "월           int64\n",
       "분양가격(㎡)    object\n",
       "dtype: object"
      ]
     },
     "execution_count": 18,
     "metadata": {},
     "output_type": "execute_result"
    }
   ],
   "source": [
    "pre_sale.dtypes"
   ]
  },
  {
   "cell_type": "code",
   "execution_count": 19,
   "metadata": {},
   "outputs": [
    {
     "data": {
      "text/plain": [
       "지역명          0\n",
       "규모구분         0\n",
       "연도           0\n",
       "월            0\n",
       "분양가격(㎡)    140\n",
       "dtype: int64"
      ]
     },
     "execution_count": 19,
     "metadata": {},
     "output_type": "execute_result"
    }
   ],
   "source": [
    "pre_sale.isnull().sum()"
   ]
  },
  {
   "cell_type": "code",
   "execution_count": 27,
   "metadata": {},
   "outputs": [
    {
     "data": {
      "text/plain": [
       "<matplotlib.axes._subplots.AxesSubplot at 0x271404328c8>"
      ]
     },
     "execution_count": 27,
     "metadata": {},
     "output_type": "execute_result"
    },
    {
     "data": {
      "image/png": "[encoded data removed]",
      "text/plain": [
       "<Figure size 1296x432 with 2 Axes>"
      ]
     },
     "metadata": {
      "needs_background": "light"
     },
     "output_type": "display_data"
    }
   ],
   "source": [
    "# 결측치 보기\n",
    "import missingno as msno\n",
    "\n",
    "msno.matrix(pre_sale, figsize=(18,6))\n"
   ]
  },
  {
   "cell_type": "code",
   "execution_count": null,
   "metadata": {},
   "outputs": [],
   "source": [
    "# 연도와 월은 카테고리 형태의 데이터이기 때문에 스트링 형태로 변경\n",
    "pre_sale['연도'] = pre_sale['연도'].astype(str)\n",
    "pre_sale['월'] = pre_sale['월'].astype(str)"
   ]
  },
  {
   "cell_type": "code",
   "execution_count": null,
   "metadata": {},
   "outputs": [],
   "source": [
    "pre_sale_price = pre_sale['분양가격(㎡)']"
   ]
  },
  {
   "cell_type": "code",
   "execution_count": null,
   "metadata": {},
   "outputs": [],
   "source": [
    "# 분양가격의 타입을 숫자로 변경해 줍니다.\n",
    "pre_sale['분양가격'] = pd.to_numeric(pre_sale_price, errors='coerce')\n",
    "# 평당 분양가격을 구해볼까요.\n",
    "pre_sale['평당분양가격'] = pre_sale['분양가격'] * 3.3"
   ]
  },
  {
   "cell_type": "code",
   "execution_count": null,
   "metadata": {},
   "outputs": [],
   "source": [
    "pre_sale.info()"
   ]
  },
  {
   "cell_type": "code",
   "execution_count": null,
   "metadata": {},
   "outputs": [],
   "source": [
    "pre_sale.dtypes"
   ]
  },
  {
   "cell_type": "code",
   "execution_count": null,
   "metadata": {},
   "outputs": [],
   "source": [
    "# 분양가격에 결측치가 많이 있어요.\n",
    "pre_sale.isnull().sum()"
   ]
  },
  {
   "cell_type": "code",
   "execution_count": null,
   "metadata": {},
   "outputs": [],
   "source": [
    "pre_sale.describe()"
   ]
  },
  {
   "cell_type": "code",
   "execution_count": null,
   "metadata": {},
   "outputs": [],
   "source": [
    "# pre_sale.describe?"
   ]
  },
  {
   "cell_type": "code",
   "execution_count": null,
   "metadata": {},
   "outputs": [],
   "source": [
    "pre_sale.describe(include=[np.object])"
   ]
  },
  {
   "cell_type": "code",
   "execution_count": null,
   "metadata": {},
   "outputs": [],
   "source": [
    "# 2017년 데이터만 봅니다.\n",
    "pre_sale_2017 = pre_sale.loc[pre_sale['연도'] == '2017']\n",
    "pre_sale_2017.shape"
   ]
  },
  {
   "cell_type": "code",
   "execution_count": null,
   "metadata": {},
   "outputs": [],
   "source": [
    "# 같은 값을 갖고 있는 걸로 시도별로 동일하게 데이터가 들어 있는 것을 확인할 수 있습니다.\n",
    "pre_sale['규모구분'].value_counts()"
   ]
  },
  {
   "cell_type": "code",
   "execution_count": null,
   "metadata": {},
   "outputs": [],
   "source": [
    "pre_sale['지역명'].value_counts()"
   ]
  },
  {
   "cell_type": "markdown",
   "metadata": {},
   "source": [
    "# 전국평균 분양가격\n",
    "* groupby 와 pivot_table 활용하기"
   ]
  },
  {
   "cell_type": "code",
   "execution_count": null,
   "metadata": {},
   "outputs": [],
   "source": [
    "# ?를 통해 도움말 보기\n",
    "# pre_sale.groupby?"
   ]
  },
  {
   "cell_type": "code",
   "execution_count": null,
   "metadata": {},
   "outputs": [],
   "source": [
    "# 분양가격만 봤을 때 2015년에서 2018년으로 갈수록 오른 것을 확인할 수 있습니다.\n",
    "pd.options.display.float_format = '{:,.0f}'.format\n",
    "pre_sale.groupby(pre_sale.연도).describe().T"
   ]
  },
  {
   "cell_type": "markdown",
   "metadata": {},
   "source": [
    "## 규모별 전국 평균 분양가격"
   ]
  },
  {
   "cell_type": "code",
   "execution_count": null,
   "metadata": {},
   "outputs": [],
   "source": [
    "# ?로 도움말 보기\n",
    "# pre_sale.pivot_table?"
   ]
  },
  {
   "cell_type": "code",
   "execution_count": null,
   "metadata": {},
   "outputs": [],
   "source": [
    "pre_sale.pivot_table('평당분양가격', '규모구분', '연도')"
   ]
  },
  {
   "cell_type": "markdown",
   "metadata": {},
   "source": [
    "# 전국 분양가 변동금액\n",
    "규모구분이 전체로 되어있는 금액으로 연도별 변동금액을 살펴봅니다."
   ]
  },
  {
   "cell_type": "code",
   "execution_count": null,
   "metadata": {},
   "outputs": [],
   "source": [
    "# 규모구분에서 전체로 되어있는 데이터만 가져온다.\n",
    "region_year_all = pre_sale.loc[pre_sale['규모구분'] == '전체']\n",
    "region_year = region_year_all.pivot_table('평당분양가격', '지역명', '연도').reset_index()\n",
    "region_year"
   ]
  },
  {
   "cell_type": "code",
   "execution_count": null,
   "metadata": {},
   "outputs": [],
   "source": [
    "region_year['변동액'] = (region_year['2018'] - region_year['2015']).astype(int)\n",
    "max_delta_price = np.max(region_year['변동액'])*1000\n",
    "min_delta_price = np.min(region_year['변동액'])*1000\n",
    "mean_delta_price = np.mean(region_year['변동액'])*1000\n",
    "\n",
    "print('2015년부터 2018년까지 분양가는 계속 상승했으며, 상승액이 가장 큰 지역은 제주이며 상승액은 평당 {:,.0f}원이다.'.format(max_delta_price))\n",
    "print('상승액이 가장 작은 지역은 울산이며 평당 {:,.0f}원이다.'.format(min_delta_price))\n",
    "print('하지만 나중에 살펴보겠지만 울산에는 결측치가 많다. 따라서 변동액이 가장 작다라고 판단하기 어렵다.')\n",
    "print('전국 평균 변동액은 평당 {:,.0f}원이다.'.format(mean_delta_price))\n",
    "\n",
    "region_year"
   ]
  },
  {
   "cell_type": "markdown",
   "metadata": {},
   "source": [
    "* 지금까지 2015년 10월에서 2018년 7월까지의 21개월간의 전국 신규 민간 아파트 분양가격 동향 파일을 요약해 봤습니다.\n",
    "* Pandas를 통해 데이터를 가져오고 요약해 보고 엑셀과 비슷하게 피봇테이블을 그려보기도 하고 groupby를 사용해서 데이터를 요약해 보기도 했습니다.\n",
    "\n",
    "# 시각화\n",
    "\n",
    "* 데이터를 시각화 해보기에 앞서 앤스콤의 4인방을 보겠습니다.\n",
    "* 아래 4개의 그래프는 다른 데이터로 그려졌습니다.\n",
    "* 또 이 4개의 데이터는 평균, 표준편차, 상관계수가 같습니다. 하지만 시각화 했을 때 전혀 다른 데이터임을 확인할 수 있습니다.\n",
    "* 이 앤스콤의 4인방은 요약된 데이터만으로 데이터를 판단할 수 없다는 것을 보여줍니다.\n",
    "* 데이터 시각화의 중요성을 얘기할 때 자주 등장하는 예시입니다.\n",
    "* [Anscombe's quartet - Wikipedia](https://en.wikipedia.org/wiki/Anscombe%27s_quartet)\n",
    "* [The Datasaurus Dozen - Same Stats, Different Graphs: Generating Datasets with Varied Appearance and Identical Statistics through Simulated Annealing | Autodesk Research](https://www.autodeskresearch.com/publications/samestats)"
   ]
  },
  {
   "cell_type": "markdown",
   "metadata": {},
   "source": [
    "![](https://upload.wikimedia.org/wikipedia/commons/thumb/e/ec/Anscombe%27s_quartet_3.svg/990px-Anscombe%27s_quartet_3.svg.png)"
   ]
  },
  {
   "cell_type": "markdown",
   "metadata": {},
   "source": [
    "## [A Grammar of Graphics for Python — plotnine](http://plotnine.readthedocs.io/en/stable/index.html)\n",
    "* [tutorial](http://plotnine.readthedocs.io/en/stable/tutorials.html)\n",
    "* [ggplot2-cheatsheet](https://www.rstudio.com/wp-content/uploads/2015/03/ggplot2-cheatsheet.pdf)\n",
    "* 이미지 출처 : [A Comprehensive Guide to the Grammar of Graphics for Effective Visualization of Multi-dimensional…](https://towardsdatascience.com/a-comprehensive-guide-to-the-grammar-of-graphics-for-effective-visualization-of-multi-dimensional-1f92b4ed4149)\n",
    "\n",
    "<img src=\"https://cdn-images-1.medium.com/max/2000/1*mcLnnVdHNg-ikDbHJfHDNA.png\">"
   ]
  },
  {
   "cell_type": "markdown",
   "metadata": {},
   "source": [
    "## 연도별 변동 그래프"
   ]
  },
  {
   "cell_type": "markdown",
   "metadata": {},
   "source": [
    "* 공공데이터포털에서 제공하고 있는 평균 분양가격을 연도, 지역별로 그려봄\n",
    "* 폰트 설정을 위해 Matplotlib의 환경설정에서 한글폰트 설정이 필요합니다.\n",
    "* 폰트는 나눔고딕이 설치되어 있어서 나눔고딕을 불러왔지만, 각자의 환경에 맞는 폰트를 가져와야 합니다.\n",
    "* 한글폰트를 지정해 주지 않는다면 글자가 두부모양으로 깨져보이게 됩니다."
   ]
  },
  {
   "cell_type": "code",
   "execution_count": null,
   "metadata": {},
   "outputs": [],
   "source": [
    "(ggplot(region_year_all, aes(x='지역명', y='평당분양가격', fill='연도'))\n",
    " + geom_bar(stat='identity', position='dodge')\n",
    " + ggtitle('2015-2018년 신규 민간 아파트 분양가격')\n",
    " + theme(text=element_text(family='NanumBarunGothic'),\n",
    "         figure_size=(8, 4))\n",
    ")"
   ]
  },
  {
   "cell_type": "markdown",
   "metadata": {},
   "source": [
    "## 지역별 평당 분양가격 합계\n",
    "* 아래 데이터로 어느정도 규모로 분양사업이 이루어졌는지를 봅니다.\n",
    "* 전체 데이터로 봤을 때 서울, 경기, 부산, 제주에 분양 사업이 다른 지역에 비해 규모가 큰 것으로 보여지지만 분양가격대비로 나눠볼 필요가 있습니다."
   ]
  },
  {
   "cell_type": "code",
   "execution_count": null,
   "metadata": {},
   "outputs": [],
   "source": [
    "pre_sale.pivot_table('평당분양가격', '규모구분', '지역명')"
   ]
  },
  {
   "cell_type": "markdown",
   "metadata": {},
   "source": [
    "## 규모별 "
   ]
  },
  {
   "cell_type": "code",
   "execution_count": null,
   "metadata": {},
   "outputs": [],
   "source": [
    "# 서울의 경우 전용면적 85㎡초과 102㎡이하가 분양가격이 가장 비싸게 나옵니다.\n",
    "(ggplot(pre_sale, aes(x='지역명', y='평당분양가격', fill='규모구분'))\n",
    " + geom_bar(stat='identity', position='dodge')\n",
    " + ggtitle('규모별 신규 민간 아파트 분양가격')\n",
    " + theme(text=element_text(family='NanumBarunGothic'),\n",
    "         figure_size=(8, 4))\n",
    ")"
   ]
  },
  {
   "cell_type": "code",
   "execution_count": null,
   "metadata": {},
   "outputs": [],
   "source": [
    "# 위에 그린 그래프를 지역별로 나눠 봅니다.\n",
    "(ggplot(pre_sale)\n",
    " + aes(x='연도', y='평당분양가격', fill='규모구분')\n",
    " + geom_bar(stat='identity', position='dodge')\n",
    " + facet_wrap('지역명')\n",
    " + theme(text=element_text(family='NanumBarunGothic'),\n",
    "         axis_text_x=element_text(rotation=70),\n",
    "         figure_size=(12, 12))\n",
    ")"
   ]
  },
  {
   "cell_type": "code",
   "execution_count": null,
   "metadata": {},
   "outputs": [],
   "source": [
    "# 박스플롯을 그려봅니다.\n",
    "(ggplot(pre_sale, aes(x='지역명', y='평당분양가격', fill='규모구분'))\n",
    " + geom_boxplot()\n",
    " + ggtitle('전국 규모별 신규 민간 아파트 분양가격')\n",
    " + theme(text=element_text(family='NanumBarunGothic'),\n",
    "         figure_size=(12, 6))\n",
    ")"
   ]
  },
  {
   "cell_type": "code",
   "execution_count": null,
   "metadata": {},
   "outputs": [],
   "source": [
    "pre_sale_seoul = pre_sale.loc[pre_sale['지역명']=='서울']\n",
    "(ggplot(pre_sale_seoul)\n",
    " + aes(x='연도', y='평당분양가격', fill='규모구분')\n",
    " + ggtitle('서울 연도/규모별 신규 민간 아파트 분양가격')\n",
    " + geom_boxplot()\n",
    " + theme(text=element_text(family='NanumBarunGothic'))\n",
    ")"
   ]
  },
  {
   "cell_type": "code",
   "execution_count": null,
   "metadata": {},
   "outputs": [],
   "source": [
    "# 2015년에서 2018년까지 분양가 차이가 가장 컸던 제주를 봅니다.\n",
    "(ggplot(pre_sale.loc[pre_sale['지역명']=='제주'])\n",
    " + aes(x='연도', y='평당분양가격', fill='규모구분')\n",
    " + geom_boxplot()\n",
    " + theme(text=element_text(family='NanumBarunGothic'))\n",
    ")"
   ]
  },
  {
   "cell_type": "code",
   "execution_count": null,
   "metadata": {},
   "outputs": [],
   "source": [
    "# 2015년에서 2018년까지 분양가 차이가 가장 작았던 울산을 봅니다.\n",
    "# 실제로는 분양가 차이가 적은 것이 아니라 결측치로 인해 분양가 차이가 적게 보였습니다.\n",
    "(ggplot(pre_sale.loc[pre_sale['지역명']=='울산'])\n",
    " + aes(x='연도', y='평당분양가격', fill='규모구분')\n",
    " + geom_boxplot()\n",
    " + theme(text=element_text(family='NanumBarunGothic'))\n",
    ")"
   ]
  },
  {
   "cell_type": "markdown",
   "metadata": {},
   "source": [
    "# Tidy Data 만들기\n",
    "* [Tidy data - Wikipedia](https://en.wikipedia.org/wiki/Tidy_data)\n",
    "## 2013년 12월~2015년 9월 3.3㎡당 분양가격\n",
    "* 2015년 10월부터 2018년 4월까지 데이터는 평당 분양가로 조정을 해주었었는데 이 데이터는 평당 분양가가 들어가 있다.\n",
    "* `지역별_3.3㎡당_평균_분양가격_천원__15.09월.csv`을  https://www.data.go.kr/dataset/3035522/fileData.do 에서 다운로드 받거나 다음의 경로에서 다운로드 받습니다. https://goo.gl/oJydAv"
   ]
  },
  {
   "cell_type": "code",
   "execution_count": null,
   "metadata": {},
   "outputs": [],
   "source": [
    "df = pd.read_csv('data/apt_price/지역별_3.3㎡당_평균_분양가격_천원__15.09월.csv', \\\n",
    "                 encoding='euc-kr', skiprows=1, header=0)\n",
    "df.shape"
   ]
  },
  {
   "cell_type": "code",
   "execution_count": null,
   "metadata": {},
   "outputs": [],
   "source": [
    "# pandas에서 보기 쉽게 컬럼을 변경해 줄 필요가 있다.\n",
    "df"
   ]
  },
  {
   "cell_type": "code",
   "execution_count": null,
   "metadata": {},
   "outputs": [],
   "source": [
    "year = df.iloc[0]\n",
    "month = df.iloc[1]"
   ]
  },
  {
   "cell_type": "code",
   "execution_count": null,
   "metadata": {},
   "outputs": [],
   "source": [
    "# 결측치를 채워준다.\n",
    "year"
   ]
  },
  {
   "cell_type": "code",
   "execution_count": null,
   "metadata": {},
   "outputs": [],
   "source": [
    "# 컬럼을 새로 만들어 주기 위해 0번째와 1번째 행을 합쳐준다.\n",
    "for i, y in enumerate(year):\n",
    "    if i > 2 and i < 15:\n",
    "        year[i] = ' '.join(['2014년', month[i]])\n",
    "    elif i >= 15:\n",
    "        year[i] = ' '.join(['2015년', month[i]])\n",
    "    elif i == 2 :\n",
    "        year[i] = ' '.join([year[i], month[i]])\n",
    "    elif i == 1:\n",
    "        year[i] = '시군구'\n",
    "        \n",
    "print(year)"
   ]
  },
  {
   "cell_type": "code",
   "execution_count": null,
   "metadata": {},
   "outputs": [],
   "source": [
    "df.columns = year"
   ]
  },
  {
   "cell_type": "code",
   "execution_count": null,
   "metadata": {},
   "outputs": [],
   "source": [
    "df = df.drop(df.index[[0,1]])\n",
    "df"
   ]
  },
  {
   "cell_type": "code",
   "execution_count": null,
   "metadata": {},
   "outputs": [],
   "source": [
    "# 지역 컬럼을 새로 만들어 시도와 시군구를 합쳐준다.\n",
    "df['구분'] = df['구분'].fillna('')\n",
    "df['시군구'] = df['시군구'].fillna('')"
   ]
  },
  {
   "cell_type": "code",
   "execution_count": null,
   "metadata": {},
   "outputs": [],
   "source": [
    "df['지역'] = df['구분'] + df['시군구']"
   ]
  },
  {
   "cell_type": "code",
   "execution_count": null,
   "metadata": {},
   "outputs": [],
   "source": [
    "df['지역']"
   ]
  },
  {
   "cell_type": "code",
   "execution_count": null,
   "metadata": {},
   "outputs": [],
   "source": [
    "melt_columns = df.columns.copy()\n",
    "melt_columns"
   ]
  },
  {
   "cell_type": "code",
   "execution_count": null,
   "metadata": {},
   "outputs": [],
   "source": [
    "df_2013_2015 = pd.melt(df, id_vars=['지역'], value_vars=['2013년 12월', '2014년 1월', '2014년 2월', '2014년 3월',\n",
    "       '2014년 4월', '2014년 5월', '2014년 6월', '2014년 7월', '2014년 8월',\n",
    "       '2014년 9월', '2014년 10월', '2014년 11월', '2014년 12월', '2015년 1월',\n",
    "       '2015년 2월', '2015년 3월', '2015년 4월', '2015년 5월', '2015년 6월',\n",
    "       '2015년 7월', '2015년 8월', '2015년 9월'])\n",
    "df_2013_2015.head()"
   ]
  },
  {
   "cell_type": "code",
   "execution_count": null,
   "metadata": {},
   "outputs": [],
   "source": [
    "df_2013_2015.columns = ['지역', '기간', '분양가']\n",
    "df_2013_2015.head()"
   ]
  },
  {
   "cell_type": "code",
   "execution_count": null,
   "metadata": {},
   "outputs": [],
   "source": [
    "df_2013_2015['연도'] = df_2013_2015['기간'].apply(lambda year_month : year_month.split('년')[0])\n",
    "df_2013_2015['월'] = df_2013_2015['기간'].apply(lambda year_month : re.sub('월', '', year_month.split('년')[1]).strip())"
   ]
  },
  {
   "cell_type": "code",
   "execution_count": null,
   "metadata": {},
   "outputs": [],
   "source": [
    "df_2013_2015.head()"
   ]
  },
  {
   "cell_type": "markdown",
   "metadata": {},
   "source": [
    "## 지역명 강원과 부산 정리"
   ]
  },
  {
   "cell_type": "code",
   "execution_count": null,
   "metadata": {},
   "outputs": [],
   "source": [
    "df_2013_2015['지역'].value_counts()"
   ]
  },
  {
   "cell_type": "code",
   "execution_count": null,
   "metadata": {},
   "outputs": [],
   "source": [
    "df_2013_2015['지역'] = df_2013_2015['지역'].apply(lambda x: re.sub('6대광역시부산','부산', x))\n",
    "df_2013_2015['지역'] = df_2013_2015['지역'].apply(lambda x: re.sub('지방강원','강원', x))\n",
    "df_2013_2015['지역'].value_counts()"
   ]
  },
  {
   "cell_type": "code",
   "execution_count": null,
   "metadata": {},
   "outputs": [],
   "source": [
    "df_2013_2015.describe()"
   ]
  },
  {
   "cell_type": "code",
   "execution_count": null,
   "metadata": {},
   "outputs": [],
   "source": [
    "df_2013_2015.info()"
   ]
  },
  {
   "cell_type": "code",
   "execution_count": null,
   "metadata": {},
   "outputs": [],
   "source": [
    "df_2013_2015['분양가격'] = df_2013_2015['분양가'].str.replace(',', '').astype(int)"
   ]
  },
  {
   "cell_type": "markdown",
   "metadata": {},
   "source": [
    "## 2013년 12월 부터 2015년 9월까지의 데이터 시각화 하기"
   ]
  },
  {
   "cell_type": "code",
   "execution_count": null,
   "metadata": {},
   "outputs": [],
   "source": [
    "(ggplot(df_2013_2015, aes(x='지역', y='분양가격', fill='연도'))\n",
    " + geom_boxplot()\n",
    " + theme(text=element_text(family='NanumBarunGothic'),\n",
    "         figure_size=(12, 6))\n",
    ")"
   ]
  },
  {
   "cell_type": "code",
   "execution_count": null,
   "metadata": {},
   "outputs": [],
   "source": [
    "(ggplot(df_2013_2015, aes(x='지역', y='분양가격', fill='연도'))\n",
    " + geom_bar(stat='identity', position='dodge')\n",
    " + theme(text=element_text(family='NanumBarunGothic'),\n",
    "         figure_size=(12, 6))\n",
    ")"
   ]
  },
  {
   "cell_type": "markdown",
   "metadata": {},
   "source": [
    "## 이제 2013년부터 2018년 7월까지 데이터를 합칠 준비가 됨"
   ]
  },
  {
   "cell_type": "code",
   "execution_count": null,
   "metadata": {},
   "outputs": [],
   "source": [
    "df_2015_2018 = pre_sale.loc[pre_sale['규모구분'] == '전체']\n",
    "print(df_2015_2018.shape)\n",
    "df_2015_2018.head()"
   ]
  },
  {
   "cell_type": "code",
   "execution_count": null,
   "metadata": {},
   "outputs": [],
   "source": [
    "df_2013_2015.columns"
   ]
  },
  {
   "cell_type": "code",
   "execution_count": null,
   "metadata": {},
   "outputs": [],
   "source": [
    "df_2013_2015_prepare = df_2013_2015[['지역', '연도', '월', '분양가격']]\n",
    "df_2013_2015_prepare.head()"
   ]
  },
  {
   "cell_type": "code",
   "execution_count": null,
   "metadata": {},
   "outputs": [],
   "source": [
    "df_2013_2015_prepare.columns = ['지역명', '연도', '월', '평당분양가격']"
   ]
  },
  {
   "cell_type": "code",
   "execution_count": null,
   "metadata": {},
   "outputs": [],
   "source": [
    "df_2015_2018.columns"
   ]
  },
  {
   "cell_type": "code",
   "execution_count": null,
   "metadata": {},
   "outputs": [],
   "source": [
    "df_2015_2018_prepare = df_2015_2018[['지역명', '연도', '월', '평당분양가격']]\n",
    "df_2015_2018_prepare.head()"
   ]
  },
  {
   "cell_type": "code",
   "execution_count": null,
   "metadata": {},
   "outputs": [],
   "source": [
    "df_2015_2018_prepare.describe()"
   ]
  },
  {
   "cell_type": "code",
   "execution_count": null,
   "metadata": {},
   "outputs": [],
   "source": [
    "df_2013_2018 = pd.concat([df_2013_2015_prepare, df_2015_2018_prepare])\n",
    "df_2013_2018.shape"
   ]
  },
  {
   "cell_type": "code",
   "execution_count": null,
   "metadata": {},
   "outputs": [],
   "source": [
    "df_2013_2018.head()"
   ]
  },
  {
   "cell_type": "code",
   "execution_count": null,
   "metadata": {},
   "outputs": [],
   "source": [
    "df_2013_2018.tail()"
   ]
  },
  {
   "cell_type": "code",
   "execution_count": null,
   "metadata": {},
   "outputs": [],
   "source": [
    "df_2013_2015_region= df_2013_2015_prepare['지역명'].unique()\n",
    "df_2013_2015_region"
   ]
  },
  {
   "cell_type": "code",
   "execution_count": null,
   "metadata": {},
   "outputs": [],
   "source": [
    "df_2015_2018_region = df_2015_2018_prepare['지역명'].unique()\n",
    "df_2015_2018_region"
   ]
  },
  {
   "cell_type": "code",
   "execution_count": null,
   "metadata": {},
   "outputs": [],
   "source": [
    "exclude_region = [region for region in df_2013_2015_region if not region in df_2015_2018_region] \n",
    "exclude_region"
   ]
  },
  {
   "cell_type": "code",
   "execution_count": null,
   "metadata": {},
   "outputs": [],
   "source": [
    "df_2013_2018.shape"
   ]
  },
  {
   "cell_type": "code",
   "execution_count": null,
   "metadata": {},
   "outputs": [],
   "source": [
    "df_2013_2018.loc[df_2013_2018['지역명'].str.match('전국|수도권')].head()"
   ]
  },
  {
   "cell_type": "code",
   "execution_count": null,
   "metadata": {},
   "outputs": [],
   "source": [
    "df_2013_2018.drop(df_2013_2018.loc[df_2013_2018['지역명'].str.match('전국|수도권')].index, axis=0, inplace=True)\n",
    "df_2013_2018.drop(df_2013_2018.loc[df_2013_2018['지역명'] == ''].index, axis=0, inplace=True)"
   ]
  },
  {
   "cell_type": "markdown",
   "metadata": {},
   "source": [
    "## 2013년 12월~2018년 7월 전국 신규 민간 아파트 분양가격 동향 시각화"
   ]
  },
  {
   "cell_type": "code",
   "execution_count": null,
   "metadata": {},
   "outputs": [],
   "source": [
    "(ggplot(df_2013_2018, aes(x='연도', y='평당분양가격'))\n",
    " + geom_bar(stat='identity', position='dodge')\n",
    " + theme(text=element_text(family='NanumBarunGothic'))\n",
    ")"
   ]
  },
  {
   "cell_type": "code",
   "execution_count": null,
   "metadata": {},
   "outputs": [],
   "source": [
    "(ggplot(df_2013_2018, aes(x='지역명', y='평당분양가격', fill='연도'))\n",
    " + geom_bar(stat='identity', position='dodge')\n",
    " + theme(text=element_text(family='NanumBarunGothic'),\n",
    "         figure_size=(12, 6))\n",
    ")"
   ]
  },
  {
   "cell_type": "code",
   "execution_count": null,
   "metadata": {},
   "outputs": [],
   "source": [
    "(ggplot(df_2015_2018_prepare)\n",
    " + aes(x='연도', y='평당분양가격')\n",
    " + ggtitle('연도별 평당분양가격')\n",
    " + geom_boxplot()\n",
    " + theme(text=element_text(family='NanumBarunGothic'))\n",
    ")"
   ]
  },
  {
   "cell_type": "code",
   "execution_count": null,
   "metadata": {},
   "outputs": [],
   "source": [
    "(ggplot(df_2013_2018)\n",
    " + aes(x='연도', y='평당분양가격')\n",
    " + ggtitle('연도별 평당분양가격')\n",
    " + geom_boxplot()\n",
    " + theme(text=element_text(family='NanumBarunGothic'))\n",
    ")"
   ]
  },
  {
   "cell_type": "code",
   "execution_count": null,
   "metadata": {},
   "outputs": [],
   "source": [
    "df_2013_2018_jeju = df_2013_2018.loc[df_2013_2018['지역명'] == '제주']\n",
    "(ggplot(df_2013_2018_jeju)\n",
    " + aes(x='연도', y='평당분양가격')\n",
    " + geom_boxplot()\n",
    " + theme(text=element_text(family='NanumBarunGothic'))\n",
    ")"
   ]
  },
  {
   "cell_type": "code",
   "execution_count": null,
   "metadata": {},
   "outputs": [],
   "source": [
    "(ggplot(df_2013_2018)\n",
    " + aes(x='연도', y='평당분양가격')\n",
    " + geom_boxplot()\n",
    " + facet_wrap('지역명')\n",
    " + theme(text=element_text(family='NanumBarunGothic'),\n",
    "         axis_text_x=element_text(rotation=70),\n",
    "         figure_size=(12, 12))\n",
    ")"
   ]
  },
  {
   "cell_type": "code",
   "execution_count": null,
   "metadata": {},
   "outputs": [],
   "source": []
  }
 ],
 "metadata": {
  "kernelspec": {
   "display_name": "Python 3",
   "language": "python",
   "name": "python3"
  },
  "language_info": {
   "codemirror_mode": {
    "name": "ipython",
    "version": 3
   },
   "file_extension": ".py",
   "mimetype": "text/x-python",
   "name": "python",
   "nbconvert_exporter": "python",
   "pygments_lexer": "ipython3",
   "version": "3.7.4"
  },
  "varInspector": {
   "cols": {
    "lenName": 16,
    "lenType": 16,
    "lenVar": 40
   },
   "kernels_config": {
    "python": {
     "delete_cmd_postfix": "",
     "delete_cmd_prefix": "del ",
     "library": "var_list.py",
     "varRefreshCmd": "print(var_dic_list())"
    },
    "r": {
     "delete_cmd_postfix": ") ",
     "delete_cmd_prefix": "rm(",
     "library": "var_list.r",
     "varRefreshCmd": "cat(var_dic_list()) "
    }
   },
   "types_to_exclude": [
    "module",
    "function",
    "builtin_function_or_method",
    "instance",
    "_Feature"
   ],
   "window_display": false
  }
 },
 "nbformat": 4,
 "nbformat_minor": 2
}
